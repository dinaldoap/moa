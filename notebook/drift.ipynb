{
 "cells": [
  {
   "cell_type": "code",
   "execution_count": 1,
   "metadata": {},
   "outputs": [
    {
     "name": "stderr",
     "output_type": "stream",
     "text": [
      "\n",
      "Attaching package: ‘dplyr’\n",
      "\n",
      "The following objects are masked from ‘package:stats’:\n",
      "\n",
      "    filter, lag\n",
      "\n",
      "The following objects are masked from ‘package:base’:\n",
      "\n",
      "    intersect, setdiff, setequal, union\n",
      "\n"
     ]
    }
   ],
   "source": [
    "library(tidyr)\n",
    "library(dplyr)\n",
    "library(ggplot2)"
   ]
  },
  {
   "cell_type": "markdown",
   "metadata": {},
   "source": [
    "# Problema\n",
    "Quando um classificador em produção apresenta uma piora na performance ou uma nova abordagem é proposta, o analista precisa comparar o classificador atual com o novo para escolher o melhor. Porém, o cenário de fluxos de dados apresenta desafios adicionais ao processamento em lote por não dispor de dados históricos ou esses não serem mais relevantes após mudanças de conceito. Além disso, a comparação precisa ser robusta à presença de desbalanceamento nos dados."
   ]
  },
  {
   "cell_type": "markdown",
   "metadata": {
    "slideshow": {
     "slide_type": "slide"
    }
   },
   "source": [
    "## Dados estacionários balanceados"
   ]
  },
  {
   "cell_type": "code",
   "execution_count": 2,
   "metadata": {
    "slideshow": {
     "slide_type": "-"
    }
   },
   "outputs": [
    {
     "data": {
      "text/html": [
       "<table>\n",
       "<caption>A data.frame: 6 × 12</caption>\n",
       "<thead>\n",
       "\t<tr><th scope=col>learning.evaluation.instances</th><th scope=col>evaluation.time..cpu.seconds.</th><th scope=col>model.cost..RAM.Hours.</th><th scope=col>classified.instances</th><th scope=col>classifications.correct..percent.</th><th scope=col>Kappa.Statistic..percent.</th><th scope=col>Kappa.Temporal.Statistic..percent.</th><th scope=col>Kappa.M.Statistic..percent.</th><th scope=col>Recall.for.class.0..percent.</th><th scope=col>Recall.for.class.1..percent.</th><th scope=col>model.training.instances</th><th scope=col>model.serialized.size..bytes.</th></tr>\n",
       "\t<tr><th scope=col>&lt;dbl&gt;</th><th scope=col>&lt;dbl&gt;</th><th scope=col>&lt;dbl&gt;</th><th scope=col>&lt;dbl&gt;</th><th scope=col>&lt;dbl&gt;</th><th scope=col>&lt;dbl&gt;</th><th scope=col>&lt;dbl&gt;</th><th scope=col>&lt;dbl&gt;</th><th scope=col>&lt;dbl&gt;</th><th scope=col>&lt;dbl&gt;</th><th scope=col>&lt;dbl&gt;</th><th scope=col>&lt;dbl&gt;</th></tr>\n",
       "</thead>\n",
       "<tbody>\n",
       "\t<tr><td>1</td><td>0.006256685</td><td>0</td><td>1</td><td> 0.00000</td><td>  0.00000</td><td> 0.00000</td><td>-Inf</td><td>  0.00000</td><td> 0.00000</td><td>1</td><td>0</td></tr>\n",
       "\t<tr><td>2</td><td>0.011709845</td><td>0</td><td>2</td><td>50.02501</td><td>  0.00000</td><td>50.02501</td><td>-Inf</td><td>100.00000</td><td> 0.00000</td><td>2</td><td>0</td></tr>\n",
       "\t<tr><td>3</td><td>0.013757240</td><td>0</td><td>3</td><td>33.33332</td><td>  0.00000</td><td>33.33332</td><td>-Inf</td><td>100.00000</td><td> 0.00000</td><td>3</td><td>0</td></tr>\n",
       "\t<tr><td>4</td><td>0.015108374</td><td>0</td><td>4</td><td>24.98748</td><td>-50.06252</td><td>24.98748</td><td>-Inf</td><td> 49.97499</td><td> 0.00000</td><td>4</td><td>0</td></tr>\n",
       "\t<tr><td>5</td><td>0.016194453</td><td>0</td><td>5</td><td>40.02002</td><td>-15.37275</td><td>40.02002</td><td>-Inf</td><td> 49.97499</td><td>33.36669</td><td>5</td><td>0</td></tr>\n",
       "\t<tr><td>6</td><td>0.017288763</td><td>0</td><td>6</td><td>33.33332</td><td>-33.33326</td><td>33.33332</td><td>-Inf</td><td> 33.29999</td><td>33.36669</td><td>6</td><td>0</td></tr>\n",
       "</tbody>\n",
       "</table>\n"
      ],
      "text/latex": [
       "A data.frame: 6 × 12\n",
       "\\begin{tabular}{r|llllllllllll}\n",
       " learning.evaluation.instances & evaluation.time..cpu.seconds. & model.cost..RAM.Hours. & classified.instances & classifications.correct..percent. & Kappa.Statistic..percent. & Kappa.Temporal.Statistic..percent. & Kappa.M.Statistic..percent. & Recall.for.class.0..percent. & Recall.for.class.1..percent. & model.training.instances & model.serialized.size..bytes.\\\\\n",
       " <dbl> & <dbl> & <dbl> & <dbl> & <dbl> & <dbl> & <dbl> & <dbl> & <dbl> & <dbl> & <dbl> & <dbl>\\\\\n",
       "\\hline\n",
       "\t 1 & 0.006256685 & 0 & 1 &  0.00000 &   0.00000 &  0.00000 & -Inf &   0.00000 &  0.00000 & 1 & 0\\\\\n",
       "\t 2 & 0.011709845 & 0 & 2 & 50.02501 &   0.00000 & 50.02501 & -Inf & 100.00000 &  0.00000 & 2 & 0\\\\\n",
       "\t 3 & 0.013757240 & 0 & 3 & 33.33332 &   0.00000 & 33.33332 & -Inf & 100.00000 &  0.00000 & 3 & 0\\\\\n",
       "\t 4 & 0.015108374 & 0 & 4 & 24.98748 & -50.06252 & 24.98748 & -Inf &  49.97499 &  0.00000 & 4 & 0\\\\\n",
       "\t 5 & 0.016194453 & 0 & 5 & 40.02002 & -15.37275 & 40.02002 & -Inf &  49.97499 & 33.36669 & 5 & 0\\\\\n",
       "\t 6 & 0.017288763 & 0 & 6 & 33.33332 & -33.33326 & 33.33332 & -Inf &  33.29999 & 33.36669 & 6 & 0\\\\\n",
       "\\end{tabular}\n"
      ],
      "text/markdown": [
       "\n",
       "A data.frame: 6 × 12\n",
       "\n",
       "| learning.evaluation.instances &lt;dbl&gt; | evaluation.time..cpu.seconds. &lt;dbl&gt; | model.cost..RAM.Hours. &lt;dbl&gt; | classified.instances &lt;dbl&gt; | classifications.correct..percent. &lt;dbl&gt; | Kappa.Statistic..percent. &lt;dbl&gt; | Kappa.Temporal.Statistic..percent. &lt;dbl&gt; | Kappa.M.Statistic..percent. &lt;dbl&gt; | Recall.for.class.0..percent. &lt;dbl&gt; | Recall.for.class.1..percent. &lt;dbl&gt; | model.training.instances &lt;dbl&gt; | model.serialized.size..bytes. &lt;dbl&gt; |\n",
       "|---|---|---|---|---|---|---|---|---|---|---|---|\n",
       "| 1 | 0.006256685 | 0 | 1 |  0.00000 |   0.00000 |  0.00000 | -Inf |   0.00000 |  0.00000 | 1 | 0 |\n",
       "| 2 | 0.011709845 | 0 | 2 | 50.02501 |   0.00000 | 50.02501 | -Inf | 100.00000 |  0.00000 | 2 | 0 |\n",
       "| 3 | 0.013757240 | 0 | 3 | 33.33332 |   0.00000 | 33.33332 | -Inf | 100.00000 |  0.00000 | 3 | 0 |\n",
       "| 4 | 0.015108374 | 0 | 4 | 24.98748 | -50.06252 | 24.98748 | -Inf |  49.97499 |  0.00000 | 4 | 0 |\n",
       "| 5 | 0.016194453 | 0 | 5 | 40.02002 | -15.37275 | 40.02002 | -Inf |  49.97499 | 33.36669 | 5 | 0 |\n",
       "| 6 | 0.017288763 | 0 | 6 | 33.33332 | -33.33326 | 33.33332 | -Inf |  33.29999 | 33.36669 | 6 | 0 |\n",
       "\n"
      ],
      "text/plain": [
       "  learning.evaluation.instances evaluation.time..cpu.seconds.\n",
       "1 1                             0.006256685                  \n",
       "2 2                             0.011709845                  \n",
       "3 3                             0.013757240                  \n",
       "4 4                             0.015108374                  \n",
       "5 5                             0.016194453                  \n",
       "6 6                             0.017288763                  \n",
       "  model.cost..RAM.Hours. classified.instances classifications.correct..percent.\n",
       "1 0                      1                     0.00000                         \n",
       "2 0                      2                    50.02501                         \n",
       "3 0                      3                    33.33332                         \n",
       "4 0                      4                    24.98748                         \n",
       "5 0                      5                    40.02002                         \n",
       "6 0                      6                    33.33332                         \n",
       "  Kappa.Statistic..percent. Kappa.Temporal.Statistic..percent.\n",
       "1   0.00000                  0.00000                          \n",
       "2   0.00000                 50.02501                          \n",
       "3   0.00000                 33.33332                          \n",
       "4 -50.06252                 24.98748                          \n",
       "5 -15.37275                 40.02002                          \n",
       "6 -33.33326                 33.33332                          \n",
       "  Kappa.M.Statistic..percent. Recall.for.class.0..percent.\n",
       "1 -Inf                          0.00000                   \n",
       "2 -Inf                        100.00000                   \n",
       "3 -Inf                        100.00000                   \n",
       "4 -Inf                         49.97499                   \n",
       "5 -Inf                         49.97499                   \n",
       "6 -Inf                         33.29999                   \n",
       "  Recall.for.class.1..percent. model.training.instances\n",
       "1  0.00000                     1                       \n",
       "2  0.00000                     2                       \n",
       "3  0.00000                     3                       \n",
       "4  0.00000                     4                       \n",
       "5 33.36669                     5                       \n",
       "6 33.36669                     6                       \n",
       "  model.serialized.size..bytes.\n",
       "1 0                            \n",
       "2 0                            \n",
       "3 0                            \n",
       "4 0                            \n",
       "5 0                            \n",
       "6 0                            "
      ]
     },
     "metadata": {},
     "output_type": "display_data"
    }
   ],
   "source": [
    "no_drift_balanced <- read.table(file=\"../data/evaluation/naive_bayes/no_drift_balanced.csv\", header=TRUE, sep=\",\")\n",
    "head(no_drift_balanced)"
   ]
  },
  {
   "cell_type": "code",
   "execution_count": 3,
   "metadata": {},
   "outputs": [
    {
     "data": {
      "text/html": [
       "<table>\n",
       "<caption>A data.frame: 6 × 3</caption>\n",
       "<thead>\n",
       "\t<tr><th scope=col>instance</th><th scope=col>metric</th><th scope=col>value</th></tr>\n",
       "\t<tr><th scope=col>&lt;dbl&gt;</th><th scope=col>&lt;chr&gt;</th><th scope=col>&lt;dbl&gt;</th></tr>\n",
       "</thead>\n",
       "<tbody>\n",
       "\t<tr><td>4</td><td>accuracy</td><td>24.98748</td></tr>\n",
       "\t<tr><td>5</td><td>accuracy</td><td>40.02002</td></tr>\n",
       "\t<tr><td>6</td><td>accuracy</td><td>33.33332</td></tr>\n",
       "\t<tr><td>7</td><td>accuracy</td><td>28.55711</td></tr>\n",
       "\t<tr><td>8</td><td>accuracy</td><td>24.97496</td></tr>\n",
       "\t<tr><td>9</td><td>accuracy</td><td>33.34448</td></tr>\n",
       "</tbody>\n",
       "</table>\n"
      ],
      "text/latex": [
       "A data.frame: 6 × 3\n",
       "\\begin{tabular}{r|lll}\n",
       " instance & metric & value\\\\\n",
       " <dbl> & <chr> & <dbl>\\\\\n",
       "\\hline\n",
       "\t 4 & accuracy & 24.98748\\\\\n",
       "\t 5 & accuracy & 40.02002\\\\\n",
       "\t 6 & accuracy & 33.33332\\\\\n",
       "\t 7 & accuracy & 28.55711\\\\\n",
       "\t 8 & accuracy & 24.97496\\\\\n",
       "\t 9 & accuracy & 33.34448\\\\\n",
       "\\end{tabular}\n"
      ],
      "text/markdown": [
       "\n",
       "A data.frame: 6 × 3\n",
       "\n",
       "| instance &lt;dbl&gt; | metric &lt;chr&gt; | value &lt;dbl&gt; |\n",
       "|---|---|---|\n",
       "| 4 | accuracy | 24.98748 |\n",
       "| 5 | accuracy | 40.02002 |\n",
       "| 6 | accuracy | 33.33332 |\n",
       "| 7 | accuracy | 28.55711 |\n",
       "| 8 | accuracy | 24.97496 |\n",
       "| 9 | accuracy | 33.34448 |\n",
       "\n"
      ],
      "text/plain": [
       "  instance metric   value   \n",
       "1 4        accuracy 24.98748\n",
       "2 5        accuracy 40.02002\n",
       "3 6        accuracy 33.33332\n",
       "4 7        accuracy 28.55711\n",
       "5 8        accuracy 24.97496\n",
       "6 9        accuracy 33.34448"
      ]
     },
     "metadata": {},
     "output_type": "display_data"
    }
   ],
   "source": [
    "metrics <- no_drift_balanced %>%\n",
    "            rename(instance = classified.instances, accuracy = classifications.correct..percent., recall_0 = Recall.for.class.0..percent., recall_1 = Recall.for.class.1..percent.) %>%\n",
    "            filter(4 <= instance & instance <= 1500) %>%\n",
    "            select(instance, accuracy, recall_0, recall_1) %>%\n",
    "            gather(\"metric\", \"value\", accuracy, recall_0, recall_1)\n",
    "head(metrics)"
   ]
  },
  {
   "cell_type": "code",
   "execution_count": 4,
   "metadata": {
    "slideshow": {
     "slide_type": "-"
    }
   },
   "outputs": [
    {
     "data": {
      "image/png": "[encoded data removed]",
      "text/plain": [
       "plot without title"
      ]
     },
     "metadata": {},
     "output_type": "display_data"
    }
   ],
   "source": [
    "ggplot(data = metrics, mapping = aes(x = instance, y = value, color = metric)) +\n",
    "    geom_line()"
   ]
  },
  {
   "cell_type": "markdown",
   "metadata": {},
   "source": [
    "## Dados desbalanceados"
   ]
  },
  {
   "cell_type": "markdown",
   "metadata": {
    "slideshow": {
     "slide_type": "slide"
    }
   },
   "source": [
    "## Dados não estacionários"
   ]
  },
  {
   "cell_type": "code",
   "execution_count": 5,
   "metadata": {
    "slideshow": {
     "slide_type": "-"
    }
   },
   "outputs": [],
   "source": [
    "# gráfico da performance baixando (theta1 != theta2)"
   ]
  },
  {
   "cell_type": "markdown",
   "metadata": {},
   "source": [
    "# Objetivo\n",
    "Comparar dois classificadores no cenário de fluxos de dados desbalanceados para auxiliar o analista a escolher qual deve ser mantido no ambiente de produção."
   ]
  },
  {
   "cell_type": "markdown",
   "metadata": {},
   "source": [
    "# Metodologia\n",
    "## Descrição\n",
    "* Treinar e testar dois classificadores de aprendizagem online (Naive Bayes e OzaBagASHT).\n",
    "* Calcular tabelas de contingência que contam às instâncias corretamente classificadas por cada classificador.\n",
    " * Uma tabela por classe corresponde a um recall por classe.\n",
    " * Contagem na forma prequencial com fading factor 0,999.\n",
    "* Aplicar teste de McNemar a partir dessa tabela de contingência.\n",
    " * alfa 0,05"
   ]
  },
  {
   "cell_type": "markdown",
   "metadata": {
    "slideshow": {
     "slide_type": "slide"
    }
   },
   "source": [
    "## Hipóteses\n",
    "H0: theta1 = theta2\n",
    "<br/>\n",
    "H1: theta1 != theta2"
   ]
  },
  {
   "cell_type": "markdown",
   "metadata": {},
   "source": [
    "# Resultados"
   ]
  },
  {
   "cell_type": "code",
   "execution_count": null,
   "metadata": {},
   "outputs": [],
   "source": []
  },
  {
   "cell_type": "code",
   "execution_count": null,
   "metadata": {},
   "outputs": [],
   "source": []
  },
  {
   "cell_type": "markdown",
   "metadata": {},
   "source": [
    "# Conclusão"
   ]
  }
 ],
 "metadata": {
  "kernelspec": {
   "display_name": "R",
   "language": "R",
   "name": "ir"
  },
  "language_info": {
   "codemirror_mode": "r",
   "file_extension": ".r",
   "mimetype": "text/x-r-source",
   "name": "R",
   "pygments_lexer": "r",
   "version": "3.5.1"
  }
 },
 "nbformat": 4,
 "nbformat_minor": 2
}
